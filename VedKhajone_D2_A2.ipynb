{
 "cells": [
  {
   "cell_type": "markdown",
   "metadata": {
    "id": "jB2qcphvVMrW"
   },
   "source": [
    "**Q.1. You have football feet of 92 meter long and 48.8 meter wide. Find total area and print it.**"
   ]
  },
  {
   "cell_type": "code",
   "execution_count": 9,
   "metadata": {
    "colab": {
     "base_uri": "https://localhost:8080/"
    },
    "executionInfo": {
     "elapsed": 10,
     "status": "ok",
     "timestamp": 1694571954028,
     "user": {
      "displayName": "akshay yeole",
      "userId": "16400682904381563403"
     },
     "user_tz": -330
    },
    "id": "cwaeJN8sVoBa",
    "outputId": "3f14a90e-2c38-4d94-f1ba-0c675e44ccc6"
   },
   "outputs": [
    {
     "name": "stdout",
     "output_type": "stream",
     "text": [
      "The area of football field : 4489.599999999999\n"
     ]
    }
   ],
   "source": [
    "x=92\n",
    "y=48.8\n",
    "area=x*y\n",
    "print(\"The area of football field :\",area)"
   ]
  },
  {
   "cell_type": "markdown",
   "metadata": {
    "id": "8VU_kuzUXDYR"
   },
   "source": [
    "**Q.2. What is the difference between floor division and division. Give example of each of each and write what do you understand.**"
   ]
  },
  {
   "cell_type": "markdown",
   "metadata": {
    "id": "PNAl-jkXYOnt"
   },
   "source": [
    "**Floor division:(//)**"
   ]
  },
  {
   "cell_type": "markdown",
   "metadata": {
    "id": "_iJwjdrbYaXP"
   },
   "source": [
    "It gives the value in the nearest integer"
   ]
  },
  {
   "cell_type": "markdown",
   "metadata": {
    "id": "4HVYGFw7Yjff"
   },
   "source": [
    "Example:"
   ]
  },
  {
   "cell_type": "code",
   "execution_count": 10,
   "metadata": {
    "colab": {
     "base_uri": "https://localhost:8080/"
    },
    "executionInfo": {
     "elapsed": 467,
     "status": "ok",
     "timestamp": 1694572417875,
     "user": {
      "displayName": "akshay yeole",
      "userId": "16400682904381563403"
     },
     "user_tz": -330
    },
    "id": "NJslZ6ScYozp",
    "outputId": "1c5f8afc-0169-440a-b61c-c6f47b023225"
   },
   "outputs": [
    {
     "name": "stdout",
     "output_type": "stream",
     "text": [
      "1\n"
     ]
    }
   ],
   "source": [
    "x=5\n",
    "y=4\n",
    "print(x//y)"
   ]
  },
  {
   "cell_type": "markdown",
   "metadata": {
    "id": "Qq61BsyJZNRx"
   },
   "source": [
    "**Float:**"
   ]
  },
  {
   "cell_type": "code",
   "execution_count": 18,
   "metadata": {
    "colab": {
     "base_uri": "https://localhost:8080/"
    },
    "executionInfo": {
     "elapsed": 462,
     "status": "ok",
     "timestamp": 1694573386061,
     "user": {
      "displayName": "akshay yeole",
      "userId": "16400682904381563403"
     },
     "user_tz": -330
    },
    "id": "Orx2_dCWZVRh",
    "outputId": "bbf43e0b-ba14-49a4-d6f9-69dc45bb2cd4"
   },
   "outputs": [
    {
     "name": "stdout",
     "output_type": "stream",
     "text": [
      "The square of 5= 25\n",
      "The cube of 5 125\n"
     ]
    }
   ],
   "source": [
    "x=5\n",
    "print(\"The square of 5=\",x**2)\n",
    "print(\"The cube of 5\",x**3)"
   ]
  },
  {
   "cell_type": "markdown",
   "metadata": {
    "id": "DelIwcM6aoge"
   },
   "source": [
    "It gives value with a floating point.\n"
   ]
  },
  {
   "cell_type": "markdown",
   "metadata": {
    "id": "Vsjz84f-av-n"
   },
   "source": [
    "**Example:With decimal point.**"
   ]
  },
  {
   "cell_type": "code",
   "execution_count": 15,
   "metadata": {
    "colab": {
     "base_uri": "https://localhost:8080/"
    },
    "executionInfo": {
     "elapsed": 569,
     "status": "ok",
     "timestamp": 1694573032153,
     "user": {
      "displayName": "akshay yeole",
      "userId": "16400682904381563403"
     },
     "user_tz": -330
    },
    "id": "nVCPtNgla-t-",
    "outputId": "34d8b9f6-1749-4ab5-99b8-f2ff6551d0be"
   },
   "outputs": [
    {
     "name": "stdout",
     "output_type": "stream",
     "text": [
      "1.25\n"
     ]
    }
   ],
   "source": [
    "x=5\n",
    "y=4\n",
    "print(x/y)"
   ]
  },
  {
   "cell_type": "markdown",
   "metadata": {
    "id": "iDFdMstbbPK2"
   },
   "source": [
    "**Q.3.Find out the square and cube of 8. Write python code for it.**"
   ]
  },
  {
   "cell_type": "code",
   "execution_count": 17,
   "metadata": {
    "colab": {
     "base_uri": "https://localhost:8080/"
    },
    "executionInfo": {
     "elapsed": 447,
     "status": "ok",
     "timestamp": 1694573367531,
     "user": {
      "displayName": "akshay yeole",
      "userId": "16400682904381563403"
     },
     "user_tz": -330
    },
    "id": "AVLHMp9-b8gR",
    "outputId": "a19b87f7-9965-4aa2-b0c4-66d9b5a1c53a"
   },
   "outputs": [
    {
     "name": "stdout",
     "output_type": "stream",
     "text": [
      "The square of 8= 64\n",
      "The cube of 8= 512\n"
     ]
    }
   ],
   "source": [
    "x=8\n",
    "print(\"The square of 8=\",x**2)\n",
    "print(\"The cube of 8=\",x**3)"
   ]
  },
  {
   "cell_type": "markdown",
   "metadata": {
    "id": "tRCO0_Z_cj9g"
   },
   "source": [
    "**Q.4. Result=11>=12   print(result)**    \n",
    "**What is the output of given code?**"
   ]
  },
  {
   "cell_type": "code",
   "execution_count": 19,
   "metadata": {
    "colab": {
     "base_uri": "https://localhost:8080/"
    },
    "executionInfo": {
     "elapsed": 437,
     "status": "ok",
     "timestamp": 1694573622135,
     "user": {
      "displayName": "akshay yeole",
      "userId": "16400682904381563403"
     },
     "user_tz": -330
    },
    "id": "eM2_CwWhdIEn",
    "outputId": "49659caa-8a92-4446-e409-9d2b9d2a3a0e"
   },
   "outputs": [
    {
     "name": "stdout",
     "output_type": "stream",
     "text": [
      "False\n"
     ]
    }
   ],
   "source": [
    "result=11>=12\n",
    "print(result)"
   ]
  },
  {
   "cell_type": "markdown",
   "metadata": {
    "id": "BBUMgPKzdZem"
   },
   "source": [
    "**Q.5. Give example of AND,OR and NOT Operator and Write what do you understand from it.**"
   ]
  },
  {
   "cell_type": "markdown",
   "metadata": {
    "id": "-weVnKgBeFp_"
   },
   "source": [
    "**.And Operator:**\n"
   ]
  },
  {
   "cell_type": "markdown",
   "metadata": {
    "id": "pJGS7RiNeTPk"
   },
   "source": [
    "The and operator is used to combine two conditions. It returns True only if both of its operands are true."
   ]
  },
  {
   "cell_type": "code",
   "execution_count": 20,
   "metadata": {
    "colab": {
     "base_uri": "https://localhost:8080/"
    },
    "executionInfo": {
     "elapsed": 14,
     "status": "ok",
     "timestamp": 1694574035756,
     "user": {
      "displayName": "akshay yeole",
      "userId": "16400682904381563403"
     },
     "user_tz": -330
    },
    "id": "qmcMPkvSes3V",
    "outputId": "4bf00a33-0f8c-4ada-ec00-e8185e8c37aa"
   },
   "outputs": [
    {
     "name": "stdout",
     "output_type": "stream",
     "text": [
      "True\n"
     ]
    }
   ],
   "source": [
    "result=(5>3)and(4<7)\n",
    "print(result)"
   ]
  },
  {
   "cell_type": "markdown",
   "metadata": {
    "id": "fU3wwGovfGRc"
   },
   "source": [
    "**OR operator:**"
   ]
  },
  {
   "cell_type": "markdown",
   "metadata": {
    "id": "y9XwphQmfPgw"
   },
   "source": [
    "The or operator is used to combine two conditions.It returns True if at least one of its operands is True."
   ]
  },
  {
   "cell_type": "code",
   "execution_count": 21,
   "metadata": {
    "colab": {
     "base_uri": "https://localhost:8080/"
    },
    "executionInfo": {
     "elapsed": 430,
     "status": "ok",
     "timestamp": 1694574318217,
     "user": {
      "displayName": "akshay yeole",
      "userId": "16400682904381563403"
     },
     "user_tz": -330
    },
    "id": "E84Z_QEZfz6m",
    "outputId": "e85dcefb-41df-4de0-81f7-0f1a03a2ef41"
   },
   "outputs": [
    {
     "name": "stdout",
     "output_type": "stream",
     "text": [
      "True\n"
     ]
    }
   ],
   "source": [
    "result=(5>3)or(4>7)\n",
    "print(result)"
   ]
  },
  {
   "cell_type": "markdown",
   "metadata": {
    "id": "c5SpEOXygDQv"
   },
   "source": [
    "**NOT operator:**"
   ]
  },
  {
   "cell_type": "markdown",
   "metadata": {
    "id": "meQ3EmxqgKRT"
   },
   "source": [
    "The not operator is used to reverse the logical value of its operand.It returns True if its operand is False,and False if its operand is True."
   ]
  },
  {
   "cell_type": "code",
   "execution_count": 22,
   "metadata": {
    "colab": {
     "base_uri": "https://localhost:8080/"
    },
    "executionInfo": {
     "elapsed": 457,
     "status": "ok",
     "timestamp": 1694574531143,
     "user": {
      "displayName": "akshay yeole",
      "userId": "16400682904381563403"
     },
     "user_tz": -330
    },
    "id": "xspV3RuTgr87",
    "outputId": "deb289e3-8f4f-40a9-e266-db0598ab4d71"
   },
   "outputs": [
    {
     "name": "stdout",
     "output_type": "stream",
     "text": [
      "False\n"
     ]
    }
   ],
   "source": [
    "result=not(5>3)\n",
    "print(result)"
   ]
  },
  {
   "cell_type": "markdown",
   "metadata": {
    "id": "9DR6VlpLg9Mm"
   },
   "source": [
    "**Q.6. There is a student who score who score 88,78,92 and 85 marks in Maths,Physics,Chemistry and Biology Respectively. calculate**\n",
    "**i)Average of Marks**"
   ]
  },
  {
   "cell_type": "code",
   "execution_count": 23,
   "metadata": {
    "colab": {
     "base_uri": "https://localhost:8080/"
    },
    "executionInfo": {
     "elapsed": 718,
     "status": "ok",
     "timestamp": 1694574930961,
     "user": {
      "displayName": "akshay yeole",
      "userId": "16400682904381563403"
     },
     "user_tz": -330
    },
    "id": "ZOJ9dtRTh2-C",
    "outputId": "4e3bee59-fae5-4fb0-963f-6743810a152d"
   },
   "outputs": [
    {
     "name": "stdout",
     "output_type": "stream",
     "text": [
      "85.75\n"
     ]
    }
   ],
   "source": [
    "m=88\n",
    "p=78\n",
    "c=92\n",
    "b=85\n",
    "t=(m+p+c+b)/4\n",
    "print(t)"
   ]
  }
 ],
 "metadata": {
  "colab": {
   "authorship_tag": "ABX9TyMr/FEinRlFm5Bdaex+OuuH",
   "provenance": []
  },
  "kernelspec": {
   "display_name": "Python 3 (ipykernel)",
   "language": "python",
   "name": "python3"
  },
  "language_info": {
   "codemirror_mode": {
    "name": "ipython",
    "version": 3
   },
   "file_extension": ".py",
   "mimetype": "text/x-python",
   "name": "python",
   "nbconvert_exporter": "python",
   "pygments_lexer": "ipython3",
   "version": "3.12.0"
  }
 },
 "nbformat": 4,
 "nbformat_minor": 4
}
