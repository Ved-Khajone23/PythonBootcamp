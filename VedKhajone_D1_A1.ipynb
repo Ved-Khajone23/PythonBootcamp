{
 "cells": [
  {
   "cell_type": "markdown",
   "metadata": {
    "id": "-PvAnSsUgDjE"
   },
   "source": [
    "Q.1. Create one variable and store in integer value in it and print the value and its type."
   ]
  },
  {
   "cell_type": "markdown",
   "metadata": {
    "colab": {
     "base_uri": "https://localhost:8080/"
    },
    "executionInfo": {
     "elapsed": 11,
     "status": "ok",
     "timestamp": 1694490618642,
     "user": {
      "displayName": "akshay yeole",
      "userId": "16400682904381563403"
     },
     "user_tz": -330
    },
    "id": "TFJA-r8-gbel",
    "outputId": "fa9e2e10-fdba-497a-95f3-9360bacc278d"
   },
   "source": [
    "x=6\n",
    "print(x)"
   ]
  },
  {
   "cell_type": "markdown",
   "metadata": {
    "id": "NkbzqHfcg6gy"
   },
   "source": [
    "   Type of print()  \n",
    "   numbers, lists, dictionaries, booleans, string, touple, sets, Float\n",
    "   (float), integer(int).\n"
   ]
  },
  {
   "cell_type": "markdown",
   "metadata": {
    "id": "ZsejCdkdjy0N"
   },
   "source": [
    "Q.2. Write an example of an indentation and write in one sentence what do you understand."
   ]
  },
  {
   "cell_type": "markdown",
   "metadata": {
    "id": "dtZm5RYqnnzt"
   },
   "source": [
    "  Indentation is used to indicate the structure of your code.indentation is a\n",
    "  critical aspect of python's syntax and plays a significant role in making code\n",
    "  readable and functional. The space at the beginning of code line"
   ]
  },
  {
   "cell_type": "code",
   "execution_count": null,
   "metadata": {
    "colab": {
     "base_uri": "https://localhost:8080/"
    },
    "executionInfo": {
     "elapsed": 476,
     "status": "ok",
     "timestamp": 1694492857993,
     "user": {
      "displayName": "akshay yeole",
      "userId": "16400682904381563403"
     },
     "user_tz": -330
    },
    "id": "h8nTldi8olub",
    "outputId": "fa8ac434-f2f5-4fd3-cc85-0dd6d78f9137"
   },
   "outputs": [
    {
     "name": "stdout",
     "output_type": "stream",
     "text": [
      "Ten is greater than five !\n"
     ]
    }
   ],
   "source": [
    "if 10 > 5:\n",
    "  print (\"Ten is greater than five !\")"
   ]
  },
  {
   "cell_type": "markdown",
   "metadata": {
    "id": "5uVhBNSOp7lz"
   },
   "source": [
    "Q.3. What is the main difference between int and float.Gives its example."
   ]
  },
  {
   "cell_type": "code",
   "execution_count": null,
   "metadata": {
    "id": "fJ_dblnBsMhG"
   },
   "outputs": [],
   "source": []
  },
  {
   "cell_type": "markdown",
   "metadata": {
    "id": "9xDwATSGq2TM"
   },
   "source": [
    "Integer(int): The int data type represents whole numbers,both positve and\n",
    "            neagative,without any decimal points.\n",
    "            Example:10,-10,100\n",
    "\n",
    "\n",
    "\n",
    "\n",
    "\n"
   ]
  },
  {
   "cell_type": "code",
   "execution_count": 1,
   "metadata": {
    "executionInfo": {
     "elapsed": 15,
     "status": "ok",
     "timestamp": 1694620779827,
     "user": {
      "displayName": "akshay yeole",
      "userId": "16400682904381563403"
     },
     "user_tz": -330
    },
    "id": "Krq9VQw0skeS"
   },
   "outputs": [],
   "source": [
    "  x=9\n",
    "  y=-10\n",
    "  z=123\n"
   ]
  },
  {
   "cell_type": "markdown",
   "metadata": {
    "id": "BvV1MszJtbJj"
   },
   "source": [
    "Float(float): Represents number with decimal points. Example:3.18, -1.5, 5.0"
   ]
  },
  {
   "cell_type": "code",
   "execution_count": null,
   "metadata": {
    "id": "i-uKd2tRuE3r"
   },
   "outputs": [],
   "source": [
    "pi = 1.1234456322\n",
    "temperature  = 95.6"
   ]
  },
  {
   "cell_type": "markdown",
   "metadata": {
    "id": "CwH9ZA5yufoU"
   },
   "source": [
    "Q.4.Is_happy=True                                                              Type(Is_happy)     \n",
    "                                                                       What is the output of above program?\n",
    "\n"
   ]
  },
  {
   "cell_type": "markdown",
   "metadata": {
    "id": "Tjeo1FQex9Kl"
   },
   "source": [
    "Bool (Boolean)data type represents logical values.true or false"
   ]
  },
  {
   "cell_type": "code",
   "execution_count": 1,
   "metadata": {
    "colab": {
     "base_uri": "https://localhost:8080/",
     "height": 192
    },
    "executionInfo": {
     "elapsed": 488,
     "status": "error",
     "timestamp": 1694495261491,
     "user": {
      "displayName": "akshay yeole",
      "userId": "16400682904381563403"
     },
     "user_tz": -330
    },
    "id": "w17N26gNvBXI",
    "outputId": "02611ca5-78ba-4552-8dee-315fafb170af",
    "scrolled": true
   },
   "outputs": [
    {
     "ename": "NameError",
     "evalue": "name 'Type' is not defined",
     "output_type": "error",
     "traceback": [
      "\u001b[1;31m---------------------------------------------------------------------------\u001b[0m",
      "\u001b[1;31mNameError\u001b[0m                                 Traceback (most recent call last)",
      "Cell \u001b[1;32mIn[1], line 2\u001b[0m\n\u001b[0;32m      1\u001b[0m Is_happy\u001b[38;5;241m=\u001b[39m\u001b[38;5;28;01mTrue\u001b[39;00m\n\u001b[1;32m----> 2\u001b[0m \u001b[43mType\u001b[49m(Is_happy)\n",
      "\u001b[1;31mNameError\u001b[0m: name 'Type' is not defined"
     ]
    }
   ],
   "source": [
    "Is_happy=True\n",
    "Type(Is_happy)"
   ]
  },
  {
   "cell_type": "markdown",
   "metadata": {
    "id": "SSjsN88OyWUw"
   },
   "source": [
    "Q.5. Create a list containing the colors of rainbow"
   ]
  },
  {
   "cell_type": "code",
   "execution_count": null,
   "metadata": {
    "colab": {
     "base_uri": "https://localhost:8080/"
    },
    "executionInfo": {
     "elapsed": 15,
     "status": "ok",
     "timestamp": 1694496580047,
     "user": {
      "displayName": "akshay yeole",
      "userId": "16400682904381563403"
     },
     "user_tz": -330
    },
    "id": "SZtdKKkUy75y",
    "outputId": "28a5ab23-6d7b-4c14-f881-d6ccf9cc9c7c"
   },
   "outputs": [
    {
     "name": "stdout",
     "output_type": "stream",
     "text": [
      "list['voilet', 'indigo', 'blue', 'green', 'yellow', 'orange', 'red']\n"
     ]
    }
   ],
   "source": [
    "x=list[\"voilet\",\"indigo\",\"blue\",\"green\",\"yellow\",\"orange\",\"red\"]\n",
    "print(x)"
   ]
  },
  {
   "cell_type": "markdown",
   "metadata": {
    "id": "VwyguYEW0o0u"
   },
   "source": [
    "Q.6.Create a dictionary of state and its capitals where make state as key and capitals as a value."
   ]
  },
  {
   "cell_type": "code",
   "execution_count": null,
   "metadata": {
    "id": "KRXG9GTt1crE"
   },
   "outputs": [],
   "source": []
  }
 ],
 "metadata": {
  "colab": {
   "authorship_tag": "ABX9TyOEdtF3S1ZtvJGBawp5bH/o",
   "provenance": []
  },
  "kernelspec": {
   "display_name": "Python 3 (ipykernel)",
   "language": "python",
   "name": "python3"
  },
  "language_info": {
   "codemirror_mode": {
    "name": "ipython",
    "version": 3
   },
   "file_extension": ".py",
   "mimetype": "text/x-python",
   "name": "python",
   "nbconvert_exporter": "python",
   "pygments_lexer": "ipython3",
   "version": "3.12.0"
  }
 },
 "nbformat": 4,
 "nbformat_minor": 4
}
